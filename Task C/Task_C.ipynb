{
  "nbformat": 4,
  "nbformat_minor": 0,
  "metadata": {
    "colab": {
      "provenance": [],
      "mount_file_id": "1pweFV6m8K3hghclE1MsjyYLpRw0Kt493",
      "authorship_tag": "ABX9TyNYZv+DCqbvB/V9/yOYsTYl",
      "include_colab_link": true
    },
    "kernelspec": {
      "name": "python3",
      "display_name": "Python 3"
    },
    "language_info": {
      "name": "python"
    }
  },
  "cells": [
    {
      "cell_type": "markdown",
      "metadata": {
        "id": "view-in-github",
        "colab_type": "text"
      },
      "source": [
        "<a href=\"https://colab.research.google.com/github/S-Muaz/precog-recruitment-task/blob/main/Task%20C/Task_C.ipynb\" target=\"_parent\"><img src=\"https://colab.research.google.com/assets/colab-badge.svg\" alt=\"Open In Colab\"/></a>"
      ]
    },
    {
      "cell_type": "code",
      "source": [
        "#importing required libraries\n",
        "import os\n",
        "import numpy as np\n",
        "from sklearn.model_selection import train_test_split\n",
        "from sklearn.preprocessing import StandardScaler\n",
        "from sklearn.metrics import classification_report\n",
        "import cv2\n",
        "from tensorflow.keras.models import Sequential\n",
        "from tensorflow.keras.layers import Conv2D, MaxPooling2D, Flatten, Dense\n",
        "import matplotlib.pyplot as plt"
      ],
      "metadata": {
        "id": "6DvmlW6suo88"
      },
      "execution_count": 1,
      "outputs": []
    },
    {
      "cell_type": "code",
      "source": [
        "# Paths to the meme and non-meme image folders\n",
        "meme_folder = '/content/drive/MyDrive/classification_dataset/memes_dataset/train/meme'\n",
        "non_meme_folder = '/content/drive/MyDrive/classification_dataset/memes_dataset/train/not_meme'\n"
      ],
      "metadata": {
        "id": "LlFN1B32RG6Q"
      },
      "execution_count": 2,
      "outputs": []
    },
    {
      "cell_type": "code",
      "source": [
        "# Load the images and create the labels\n",
        "X = []\n",
        "y = []\n",
        "\n",
        "# Load meme images\n",
        "for img_file in os.listdir(meme_folder):\n",
        "    img_path = os.path.join(meme_folder, img_file)\n",
        "    img = cv2.imread(img_path)\n",
        "    img = cv2.resize(img, (64, 64))  # Resize the image to a fixed size\n",
        "    X.append(img)\n",
        "    y.append(1)  # Meme label\n",
        "\n",
        "# Load non-meme images\n",
        "for img_file in os.listdir(non_meme_folder):\n",
        "    img_path = os.path.join(non_meme_folder, img_file)\n",
        "    img = cv2.imread(img_path)\n",
        "    img = cv2.resize(img, (64, 64))  # Resize the image to a fixed size\n",
        "    X.append(img)\n",
        "    y.append(0)  # Non-meme label\n"
      ],
      "metadata": {
        "id": "9fj9XHMfRKfn"
      },
      "execution_count": 3,
      "outputs": []
    },
    {
      "cell_type": "code",
      "source": [
        "# Convert the image data to a numpy array\n",
        "X = np.array(X)\n",
        "y = np.array(y)\n",
        "\n",
        "# Split the data into training and testing sets\n",
        "X_train, X_test, y_train, y_test = train_test_split(X, y, test_size=0.2, random_state=42)\n",
        "\n",
        "# Normalize pixel values to be between 0 and 1\n",
        "X_train = X_train / 255.0\n",
        "X_test = X_test / 255.0"
      ],
      "metadata": {
        "id": "-BOX9gSSRQow"
      },
      "execution_count": 4,
      "outputs": []
    },
    {
      "cell_type": "code",
      "source": [
        "# Build the CNN model\n",
        "model = Sequential([\n",
        "    Conv2D(32, (3, 3), activation='relu', input_shape=(64, 64, 3)),\n",
        "    MaxPooling2D((2, 2)),\n",
        "    Conv2D(64, (3, 3), activation='relu'),\n",
        "    MaxPooling2D((2, 2)),\n",
        "    Conv2D(128, (3, 3), activation='relu'),\n",
        "    MaxPooling2D((2, 2)),\n",
        "    Flatten(),\n",
        "    Dense(128, activation='relu'),\n",
        "    Dense(1, activation='sigmoid')\n",
        "])"
      ],
      "metadata": {
        "id": "GMABsc80RSzo"
      },
      "execution_count": 5,
      "outputs": []
    },
    {
      "cell_type": "code",
      "source": [
        "# Compile the model\n",
        "model.compile(optimizer='adam', loss='binary_crossentropy', metrics=['accuracy'])\n",
        "\n",
        "# Train the model\n",
        "model.fit(X_train, y_train, epochs=10, batch_size=32, validation_data=(X_test, y_test))\n",
        "\n",
        "# Evaluate the model\n",
        "y_pred = model.predict(X_test)\n",
        "y_pred_binary = np.round(y_pred)\n",
        "\n",
        "# Classification report\n",
        "print(classification_report(y_test, y_pred_binary))"
      ],
      "metadata": {
        "colab": {
          "base_uri": "https://localhost:8080/"
        },
        "id": "stWx39g5RYzg",
        "outputId": "2d3b8490-0705-4ddb-8785-e66e6f5d10eb"
      },
      "execution_count": 6,
      "outputs": [
        {
          "output_type": "stream",
          "name": "stdout",
          "text": [
            "Epoch 1/10\n",
            "33/33 [==============================] - 10s 267ms/step - loss: 0.6259 - accuracy: 0.6325 - val_loss: 0.3953 - val_accuracy: 0.8456\n",
            "Epoch 2/10\n",
            "33/33 [==============================] - 8s 254ms/step - loss: 0.3192 - accuracy: 0.8772 - val_loss: 0.3145 - val_accuracy: 0.8687\n",
            "Epoch 3/10\n",
            "33/33 [==============================] - 7s 218ms/step - loss: 0.3204 - accuracy: 0.8801 - val_loss: 0.2761 - val_accuracy: 0.8958\n",
            "Epoch 4/10\n",
            "33/33 [==============================] - 8s 248ms/step - loss: 0.2540 - accuracy: 0.9033 - val_loss: 0.3252 - val_accuracy: 0.8764\n",
            "Epoch 5/10\n",
            "33/33 [==============================] - 7s 213ms/step - loss: 0.2325 - accuracy: 0.9149 - val_loss: 0.2411 - val_accuracy: 0.9266\n",
            "Epoch 6/10\n",
            "33/33 [==============================] - 8s 256ms/step - loss: 0.1757 - accuracy: 0.9439 - val_loss: 0.2214 - val_accuracy: 0.9266\n",
            "Epoch 7/10\n",
            "33/33 [==============================] - 7s 199ms/step - loss: 0.1452 - accuracy: 0.9526 - val_loss: 0.2765 - val_accuracy: 0.8958\n",
            "Epoch 8/10\n",
            "33/33 [==============================] - 8s 253ms/step - loss: 0.1310 - accuracy: 0.9555 - val_loss: 0.1874 - val_accuracy: 0.9266\n",
            "Epoch 9/10\n",
            "33/33 [==============================] - 7s 202ms/step - loss: 0.0971 - accuracy: 0.9642 - val_loss: 0.1720 - val_accuracy: 0.9305\n",
            "Epoch 10/10\n",
            "33/33 [==============================] - 8s 250ms/step - loss: 0.0827 - accuracy: 0.9729 - val_loss: 0.1690 - val_accuracy: 0.9305\n",
            "9/9 [==============================] - 0s 41ms/step\n",
            "              precision    recall  f1-score   support\n",
            "\n",
            "           0       0.93      0.92      0.93       124\n",
            "           1       0.93      0.94      0.93       135\n",
            "\n",
            "    accuracy                           0.93       259\n",
            "   macro avg       0.93      0.93      0.93       259\n",
            "weighted avg       0.93      0.93      0.93       259\n",
            "\n"
          ]
        }
      ]
    },
    {
      "cell_type": "code",
      "source": [
        "test_image_path = '/content/drive/MyDrive/classification_dataset/memes_dataset/test/meme/01235.png'   # test image path\n",
        "test_image = cv2.imread(test_image_path)\n",
        "test_image = cv2.resize(test_image, (64, 64))  # Resize the image to a fixed size\n",
        "test_image_normalized = test_image / 255.0  # Normalize pixel values\n",
        "prediction = model.predict(np.expand_dims(test_image_normalized, axis=0))\n",
        "prediction_label = \"Meme\" if prediction[0][0] > 0.5 else \"Non-meme\""
      ],
      "metadata": {
        "colab": {
          "base_uri": "https://localhost:8080/"
        },
        "id": "RnGuT6m7RcM4",
        "outputId": "93d9ef19-ed5c-4d4c-e408-218e11a4df45"
      },
      "execution_count": 9,
      "outputs": [
        {
          "output_type": "stream",
          "name": "stdout",
          "text": [
            "1/1 [==============================] - 0s 37ms/step\n"
          ]
        }
      ]
    },
    {
      "cell_type": "code",
      "source": [
        "# Plot the test image\n",
        "plt.imshow(cv2.cvtColor(test_image, cv2.COLOR_BGR2RGB))\n",
        "plt.title(f\"Prediction: {prediction_label}\")\n",
        "plt.axis('off')\n",
        "plt.show()\n"
      ],
      "metadata": {
        "colab": {
          "base_uri": "https://localhost:8080/",
          "height": 428
        },
        "id": "PQFCoWfpcjG6",
        "outputId": "d3f94582-e956-45e8-d37d-f5c0d8971b71"
      },
      "execution_count": 10,
      "outputs": [
        {
          "output_type": "display_data",
          "data": {
            "text/plain": [
              "<Figure size 640x480 with 1 Axes>"
            ],
            "image/png": "[encoded data removed]"
          },
          "metadata": {}
        }
      ]
    },
    {
      "cell_type": "code",
      "source": [],
      "metadata": {
        "id": "Tv-N7cv3S_Vc"
      },
      "execution_count": null,
      "outputs": []
    }
  ]
}