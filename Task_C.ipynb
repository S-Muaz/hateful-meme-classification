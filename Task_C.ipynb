{
  "nbformat": 4,
  "nbformat_minor": 0,
  "metadata": {
    "colab": {
      "provenance": [],
      "mount_file_id": "1pweFV6m8K3hghclE1MsjyYLpRw0Kt493",
      "authorship_tag": "ABX9TyO8gxLJL6bkE7mwS/QgEc3u",
      "include_colab_link": true
    },
    "kernelspec": {
      "name": "python3",
      "display_name": "Python 3"
    },
    "language_info": {
      "name": "python"
    }
  },
  "cells": [
    {
      "cell_type": "markdown",
      "metadata": {
        "id": "view-in-github",
        "colab_type": "text"
      },
      "source": [
        "<a href=\"https://colab.research.google.com/github/S-Muaz/precog-recruitment-task/blob/main/Task_C.ipynb\" target=\"_parent\"><img src=\"https://colab.research.google.com/assets/colab-badge.svg\" alt=\"Open In Colab\"/></a>"
      ]
    },
    {
      "cell_type": "code",
      "source": [
        "meme_folder = '/content/drive/MyDrive/classification_dataset/memes_dataset/train/meme'\n",
        "non_meme_folder = '/content/drive/MyDrive/classification_dataset/memes_dataset/train/not_meme'"
      ],
      "metadata": {
        "id": "HG3HCLSedE1x"
      },
      "execution_count": null,
      "outputs": []
    },
    {
      "cell_type": "code",
      "source": [
        "import os\n",
        "import numpy as np\n",
        "from sklearn.model_selection import train_test_split\n",
        "from sklearn.preprocessing import StandardScaler\n",
        "from sklearn.metrics import classification_report\n",
        "import cv2\n",
        "from tensorflow.keras.models import Sequential\n",
        "from tensorflow.keras.layers import Conv2D, MaxPooling2D, Flatten, Dense\n",
        "import matplotlib.pyplot as plt\n",
        "\n",
        "# Paths to the meme and non-meme image folders\n",
        "meme_folder = '/content/drive/MyDrive/classification_dataset/memes_dataset/train/meme'\n",
        "non_meme_folder = '/content/drive/MyDrive/classification_dataset/memes_dataset/train/not_meme'\n",
        "\n",
        "# Load the images and create the labels\n",
        "X = []\n",
        "y = []\n",
        "\n",
        "# Load meme images\n",
        "for img_file in os.listdir(meme_folder):\n",
        "    img_path = os.path.join(meme_folder, img_file)\n",
        "    img = cv2.imread(img_path)\n",
        "    img = cv2.resize(img, (64, 64))  # Resize the image to a fixed size\n",
        "    X.append(img)\n",
        "    y.append(1)  # Meme label\n",
        "\n",
        "# Load non-meme images\n",
        "for img_file in os.listdir(non_meme_folder):\n",
        "    img_path = os.path.join(non_meme_folder, img_file)\n",
        "    img = cv2.imread(img_path)\n",
        "    img = cv2.resize(img, (64, 64))  # Resize the image to a fixed size\n",
        "    X.append(img)\n",
        "    y.append(0)  # Non-meme label\n",
        "\n",
        "# Convert the image data to a numpy array\n",
        "X = np.array(X)\n",
        "y = np.array(y)\n",
        "\n",
        "# Split the data into training and testing sets\n",
        "X_train, X_test, y_train, y_test = train_test_split(X, y, test_size=0.2, random_state=42)\n",
        "\n",
        "# Normalize pixel values to be between 0 and 1\n",
        "X_train = X_train / 255.0\n",
        "X_test = X_test / 255.0\n",
        "\n",
        "# Build the CNN model\n",
        "model = Sequential([\n",
        "    Conv2D(32, (3, 3), activation='relu', input_shape=(64, 64, 3)),\n",
        "    MaxPooling2D((2, 2)),\n",
        "    Conv2D(64, (3, 3), activation='relu'),\n",
        "    MaxPooling2D((2, 2)),\n",
        "    Conv2D(128, (3, 3), activation='relu'),\n",
        "    MaxPooling2D((2, 2)),\n",
        "    Flatten(),\n",
        "    Dense(128, activation='relu'),\n",
        "    Dense(1, activation='sigmoid')\n",
        "])\n",
        "\n",
        "# Compile the model\n",
        "model.compile(optimizer='adam', loss='binary_crossentropy', metrics=['accuracy'])\n",
        "\n",
        "# Train the model\n",
        "model.fit(X_train, y_train, epochs=10, batch_size=32, validation_data=(X_test, y_test))\n",
        "\n",
        "# Evaluate the model\n",
        "y_pred = model.predict(X_test)\n",
        "y_pred_binary = np.round(y_pred)\n",
        "\n",
        "# Classification report\n",
        "print(classification_report(y_test, y_pred_binary))\n",
        "\n",
        "test_image_path = '/content/drive/MyDrive/classification_dataset/memes_dataset/test/not_meme/8015_0.jpg'   # Example test image path\n",
        "test_image = cv2.imread(test_image_path)\n",
        "test_image = cv2.resize(test_image, (64, 64))  # Resize the image to a fixed size\n",
        "test_image_normalized = test_image / 255.0  # Normalize pixel values\n",
        "prediction = model.predict(np.expand_dims(test_image_normalized, axis=0))\n",
        "prediction_label = \"Meme\" if prediction[0][0] > 0.5 else \"Non-meme\"\n",
        "\n",
        "# Plot the example test image\n",
        "plt.imshow(cv2.cvtColor(test_image, cv2.COLOR_BGR2RGB))\n",
        "plt.title(f\"Prediction: {prediction_label}\")\n",
        "plt.axis('off')\n",
        "plt.show()\n"
      ],
      "metadata": {
        "colab": {
          "base_uri": "https://localhost:8080/",
          "height": 966
        },
        "id": "PQFCoWfpcjG6",
        "outputId": "63388fb5-3b24-43a8-f249-38f0ad338f2f"
      },
      "execution_count": 11,
      "outputs": [
        {
          "output_type": "stream",
          "name": "stdout",
          "text": [
            "Epoch 1/10\n",
            "33/33 [==============================] - 9s 240ms/step - loss: 0.5813 - accuracy: 0.6692 - val_loss: 0.4589 - val_accuracy: 0.7722\n",
            "Epoch 2/10\n",
            "33/33 [==============================] - 6s 173ms/step - loss: 0.4256 - accuracy: 0.8114 - val_loss: 0.3629 - val_accuracy: 0.8340\n",
            "Epoch 3/10\n",
            "33/33 [==============================] - 7s 224ms/step - loss: 0.3263 - accuracy: 0.8772 - val_loss: 0.2952 - val_accuracy: 0.8803\n",
            "Epoch 4/10\n",
            "33/33 [==============================] - 6s 170ms/step - loss: 0.2718 - accuracy: 0.8859 - val_loss: 0.2471 - val_accuracy: 0.9112\n",
            "Epoch 5/10\n",
            "33/33 [==============================] - 8s 234ms/step - loss: 0.2487 - accuracy: 0.9130 - val_loss: 0.4000 - val_accuracy: 0.8301\n",
            "Epoch 6/10\n",
            "33/33 [==============================] - 6s 170ms/step - loss: 0.2218 - accuracy: 0.9091 - val_loss: 0.2169 - val_accuracy: 0.9151\n",
            "Epoch 7/10\n",
            "33/33 [==============================] - 7s 201ms/step - loss: 0.1822 - accuracy: 0.9352 - val_loss: 0.2083 - val_accuracy: 0.9151\n",
            "Epoch 8/10\n",
            "33/33 [==============================] - 6s 190ms/step - loss: 0.1552 - accuracy: 0.9391 - val_loss: 0.2314 - val_accuracy: 0.9189\n",
            "Epoch 9/10\n",
            "33/33 [==============================] - 6s 179ms/step - loss: 0.1330 - accuracy: 0.9565 - val_loss: 0.2088 - val_accuracy: 0.9305\n",
            "Epoch 10/10\n",
            "33/33 [==============================] - 7s 220ms/step - loss: 0.1027 - accuracy: 0.9691 - val_loss: 0.2681 - val_accuracy: 0.8919\n",
            "9/9 [==============================] - 0s 41ms/step\n",
            "              precision    recall  f1-score   support\n",
            "\n",
            "           0       0.94      0.82      0.88       124\n",
            "           1       0.85      0.96      0.90       135\n",
            "\n",
            "    accuracy                           0.89       259\n",
            "   macro avg       0.90      0.89      0.89       259\n",
            "weighted avg       0.90      0.89      0.89       259\n",
            "\n",
            "1/1 [==============================] - 0s 22ms/step\n"
          ]
        },
        {
          "output_type": "display_data",
          "data": {
            "text/plain": [
              "<Figure size 640x480 with 1 Axes>"
            ],
            "image/png": "[encoded data removed]"
          },
          "metadata": {}
        }
      ]
    },
    {
      "cell_type": "code",
      "source": [],
      "metadata": {
        "id": "6DvmlW6suo88"
      },
      "execution_count": null,
      "outputs": []
    }
  ]
}